{
 "cells": [
  {
   "cell_type": "code",
   "execution_count": 1,
   "id": "a3bd9034-72c3-4f6c-8472-ef0beea88275",
   "metadata": {},
   "outputs": [],
   "source": [
    "import pandas as pd\n",
    "import networkx as nx\n",
    "from pyvis.network import Network\n",
    "import numpy as np\n",
    "from axial import axial\n"
   ]
  },
  {
   "cell_type": "markdown",
   "id": "f2603bad-cb2c-4974-84f4-0cd551017348",
   "metadata": {},
   "source": [
    "# Importing data"
   ]
  },
  {
   "cell_type": "code",
   "execution_count": 2,
   "id": "47954afc-453d-48c1-8edd-f4106ccac4a1",
   "metadata": {},
   "outputs": [
    {
     "name": "stderr",
     "output_type": "stream",
     "text": [
      "/opt/anaconda3/lib/python3.9/site-packages/IPython/core/interactiveshell.py:3369: DtypeWarning: Columns (12,15) have mixed types.Specify dtype option on import or set low_memory=False.\n",
      "  exec(code_obj, self.user_global_ns, self.user_ns)\n"
     ]
    }
   ],
   "source": [
    "prot = pd.read_csv('22RV1/CMP_22RV1_proteomics.csv')\n",
    "rna = pd.read_csv('22RV1/SIDM00499_rnaseq.csv')\n",
    "drugs = pd.read_csv('22RV1/GDSC2.csv')\n",
    "mutations = pd.read_csv('22RV1/CMP_22RV1_mutations.csv')\n",
    "targets = pd.read_csv('22RV1/DrugBankTargets.csv')\n",
    "drivers = pd.read_csv('22RV1/driver_genes.csv')\n",
    "intacto = pd.read_csv('interactomes/HIPPIE-current.mitab.txt', sep = '\\t')\n",
    "intacto = intacto[intacto['Confidence Value']!=0]\n",
    "intacto = intacto[intacto['Gene Name Interactor A'] != intacto['Gene Name Interactor B']]"
   ]
  },
  {
   "cell_type": "markdown",
   "id": "8262fccf-821b-4c2c-89da-8007fa107196",
   "metadata": {},
   "source": [
    "# Merging omics data"
   ]
  },
  {
   "cell_type": "code",
   "execution_count": 3,
   "id": "7cbddc36-c67b-4b4e-826d-51d258c7f9e5",
   "metadata": {},
   "outputs": [
    {
     "data": {
      "text/html": [
       "<div>\n",
       "<style scoped>\n",
       "    .dataframe tbody tr th:only-of-type {\n",
       "        vertical-align: middle;\n",
       "    }\n",
       "\n",
       "    .dataframe tbody tr th {\n",
       "        vertical-align: top;\n",
       "    }\n",
       "\n",
       "    .dataframe thead th {\n",
       "        text-align: right;\n",
       "    }\n",
       "</style>\n",
       "<table border=\"1\" class=\"dataframe\">\n",
       "  <thead>\n",
       "    <tr style=\"text-align: right;\">\n",
       "      <th></th>\n",
       "      <th>Uniprot ID</th>\n",
       "      <th>Symbol</th>\n",
       "      <th>Protein Intensity</th>\n",
       "      <th>Prot_Z_Score</th>\n",
       "      <th>read_count</th>\n",
       "      <th>fpkm</th>\n",
       "      <th>tpm</th>\n",
       "      <th>driver gene method_of_action</th>\n",
       "    </tr>\n",
       "  </thead>\n",
       "  <tbody>\n",
       "    <tr>\n",
       "      <th>0</th>\n",
       "      <td>Q9NNW7</td>\n",
       "      <td>TXNRD2</td>\n",
       "      <td>5.732720</td>\n",
       "      <td>3.30478</td>\n",
       "      <td>5458</td>\n",
       "      <td>11.58</td>\n",
       "      <td>42.07</td>\n",
       "      <td>NaN</td>\n",
       "    </tr>\n",
       "    <tr>\n",
       "      <th>1</th>\n",
       "      <td>P51648</td>\n",
       "      <td>ALDH3A2</td>\n",
       "      <td>7.796130</td>\n",
       "      <td>3.10758</td>\n",
       "      <td>117899</td>\n",
       "      <td>298.16</td>\n",
       "      <td>1083.22</td>\n",
       "      <td>NaN</td>\n",
       "    </tr>\n",
       "    <tr>\n",
       "      <th>2</th>\n",
       "      <td>P51687</td>\n",
       "      <td>SUOX</td>\n",
       "      <td>5.797140</td>\n",
       "      <td>3.02789</td>\n",
       "      <td>10896</td>\n",
       "      <td>35.53</td>\n",
       "      <td>129.08</td>\n",
       "      <td>NaN</td>\n",
       "    </tr>\n",
       "    <tr>\n",
       "      <th>3</th>\n",
       "      <td>O15240</td>\n",
       "      <td>VGF</td>\n",
       "      <td>9.723160</td>\n",
       "      <td>3.00952</td>\n",
       "      <td>4852</td>\n",
       "      <td>29.30</td>\n",
       "      <td>106.45</td>\n",
       "      <td>NaN</td>\n",
       "    </tr>\n",
       "    <tr>\n",
       "      <th>4</th>\n",
       "      <td>Q99996</td>\n",
       "      <td>AKAP9</td>\n",
       "      <td>4.109220</td>\n",
       "      <td>2.95377</td>\n",
       "      <td>51350</td>\n",
       "      <td>46.05</td>\n",
       "      <td>167.30</td>\n",
       "      <td>NaN</td>\n",
       "    </tr>\n",
       "    <tr>\n",
       "      <th>...</th>\n",
       "      <td>...</td>\n",
       "      <td>...</td>\n",
       "      <td>...</td>\n",
       "      <td>...</td>\n",
       "      <td>...</td>\n",
       "      <td>...</td>\n",
       "      <td>...</td>\n",
       "      <td>...</td>\n",
       "    </tr>\n",
       "    <tr>\n",
       "      <th>5551</th>\n",
       "      <td>Q04941</td>\n",
       "      <td>PLP2</td>\n",
       "      <td>0.859359</td>\n",
       "      <td>-3.38900</td>\n",
       "      <td>252</td>\n",
       "      <td>3.22</td>\n",
       "      <td>11.70</td>\n",
       "      <td>NaN</td>\n",
       "    </tr>\n",
       "    <tr>\n",
       "      <th>5552</th>\n",
       "      <td>O00220</td>\n",
       "      <td>TNFRSF10A</td>\n",
       "      <td>-2.204210</td>\n",
       "      <td>-4.25333</td>\n",
       "      <td>1330</td>\n",
       "      <td>7.36</td>\n",
       "      <td>26.74</td>\n",
       "      <td>NaN</td>\n",
       "    </tr>\n",
       "    <tr>\n",
       "      <th>5553</th>\n",
       "      <td>Q92466</td>\n",
       "      <td>DDB2</td>\n",
       "      <td>-3.077000</td>\n",
       "      <td>-5.15412</td>\n",
       "      <td>2338</td>\n",
       "      <td>7.80</td>\n",
       "      <td>28.34</td>\n",
       "      <td>ambiguous</td>\n",
       "    </tr>\n",
       "    <tr>\n",
       "      <th>5554</th>\n",
       "      <td>P51991</td>\n",
       "      <td>HNRNPA3</td>\n",
       "      <td>4.020600</td>\n",
       "      <td>-6.15278</td>\n",
       "      <td>11292</td>\n",
       "      <td>30.56</td>\n",
       "      <td>111.03</td>\n",
       "      <td>NaN</td>\n",
       "    </tr>\n",
       "    <tr>\n",
       "      <th>5555</th>\n",
       "      <td>P49959</td>\n",
       "      <td>MRE11</td>\n",
       "      <td>-1.090060</td>\n",
       "      <td>-7.37078</td>\n",
       "      <td>2898</td>\n",
       "      <td>6.15</td>\n",
       "      <td>22.34</td>\n",
       "      <td>NaN</td>\n",
       "    </tr>\n",
       "  </tbody>\n",
       "</table>\n",
       "<p>5556 rows × 8 columns</p>\n",
       "</div>"
      ],
      "text/plain": [
       "     Uniprot ID     Symbol  Protein Intensity  Prot_Z_Score  read_count  \\\n",
       "0        Q9NNW7     TXNRD2           5.732720       3.30478        5458   \n",
       "1        P51648    ALDH3A2           7.796130       3.10758      117899   \n",
       "2        P51687       SUOX           5.797140       3.02789       10896   \n",
       "3        O15240        VGF           9.723160       3.00952        4852   \n",
       "4        Q99996      AKAP9           4.109220       2.95377       51350   \n",
       "...         ...        ...                ...           ...         ...   \n",
       "5551     Q04941       PLP2           0.859359      -3.38900         252   \n",
       "5552     O00220  TNFRSF10A          -2.204210      -4.25333        1330   \n",
       "5553     Q92466       DDB2          -3.077000      -5.15412        2338   \n",
       "5554     P51991    HNRNPA3           4.020600      -6.15278       11292   \n",
       "5555     P49959      MRE11          -1.090060      -7.37078        2898   \n",
       "\n",
       "        fpkm      tpm driver gene method_of_action  \n",
       "0      11.58    42.07                          NaN  \n",
       "1     298.16  1083.22                          NaN  \n",
       "2      35.53   129.08                          NaN  \n",
       "3      29.30   106.45                          NaN  \n",
       "4      46.05   167.30                          NaN  \n",
       "...      ...      ...                          ...  \n",
       "5551    3.22    11.70                          NaN  \n",
       "5552    7.36    26.74                          NaN  \n",
       "5553    7.80    28.34                    ambiguous  \n",
       "5554   30.56   111.03                          NaN  \n",
       "5555    6.15    22.34                          NaN  \n",
       "\n",
       "[5556 rows x 8 columns]"
      ]
     },
     "execution_count": 3,
     "metadata": {},
     "output_type": "execute_result"
    }
   ],
   "source": [
    "cell = prot.merge(rna, how= 'inner', left_on='Symbol', right_on='symbol') # combining protein and RNA data\n",
    "cell = cell.merge(mutations,how= 'left', on='Symbol') # Merging mutation data\n",
    "cell = cell.merge(drivers, how= 'left', on='symbol').rename(columns={'Z-Score': 'Prot_Z_Score', 'method_of_action':'driver gene method_of_action'}) # Merging pan cancer driver genes\n",
    "cell = cell[['Uniprot ID','Symbol','Protein Intensity','Prot_Z_Score','read_count','fpkm','tpm','driver gene method_of_action']]\n",
    "cell.to_csv('22RV1/22RV1.csv', index=False)\n",
    "\n",
    "# Finding cancer specific driver genes\n",
    "mut = mutations[['Symbol','Type','Cancer somatic driver variant','VAF' ,'CNA call']]\n",
    "CNAdrivers = mut[mut.apply(lambda x: x[\"Type\"] == 'CNA' and x[\"CNA call\"]== \"Amplification\" or x[\"CNA call\"]==\"Deletion\", axis=1)]\n",
    "Somaticdrivers = mut[mut.apply(lambda x: x[\"Type\"] != 'CNA' and x[\"Cancer somatic driver variant\"]== \"true\", axis=1)]\n",
    "drivers = Somaticdrivers.merge(CNAdrivers, on = 'Symbol', how='outer', suffixes=('', '_CNA'))\n",
    "drivers = drivers.sort_values(by='VAF', ascending = False).drop_duplicates(subset = ['Symbol'])\n",
    "drivers = drivers.fillna(value={'Type':'CNA', 'VAF':1})\n",
    "drivers['CNA call'] = drivers['CNA call_CNA']\n",
    "drivers = drivers[['Symbol','Type','VAF','CNA call']]\n",
    "drivers.to_csv('model specific driver genes.csv', index=False)\n",
    "\n",
    "# cell line df \n",
    "cell = cell[['Uniprot ID','Symbol','Protein Intensity','Prot_Z_Score','read_count','fpkm','tpm','driver gene method_of_action']]\n",
    "cell.to_csv('22RV1/22RV1.csv', index=False)\n",
    "cell\n"
   ]
  },
  {
   "cell_type": "markdown",
   "id": "48908eed-8c27-480c-afe0-cd48d86831d9",
   "metadata": {},
   "source": [
    "# Building the network"
   ]
  },
  {
   "cell_type": "code",
   "execution_count": 4,
   "id": "a80dc918-b67b-4c88-b417-a8f3c02228ce",
   "metadata": {},
   "outputs": [],
   "source": [
    "RefG = nx.from_pandas_edgelist(intacto, 'Gene Name Interactor A', 'Gene Name Interactor B',edge_attr='Confidence Value')\n",
    "Refcell = RefG.subgraph(list(cell['Symbol']))\n",
    "Refcell = Refcell.subgraph(max(nx.connected_components(Refcell), key=len))"
   ]
  },
  {
   "cell_type": "markdown",
   "id": "d20196e8-cf6e-4af6-b9de-185dc3ef6130",
   "metadata": {},
   "source": [
    "# Running personalized page rank "
   ]
  },
  {
   "cell_type": "code",
   "execution_count": 5,
   "id": "7e1da3f7-66aa-4c2f-a42c-09fbd2f92385",
   "metadata": {},
   "outputs": [],
   "source": [
    "personalization = dict(zip(drivers.Symbol, drivers.VAF))\n",
    "personalization['SYK'] = 1\n",
    "\n",
    "\n",
    "#personalization_temsiro['MTOR'] = 1\n",
    "\n",
    "\n",
    "sn38 = nx.pagerank(Refcell,personalization=personalization)"
   ]
  },
  {
   "cell_type": "markdown",
   "id": "fd7718a5-eacb-49e2-9c83-add07cf14982",
   "metadata": {},
   "source": [
    "### Cutting top n percent of node scores"
   ]
  },
  {
   "cell_type": "code",
   "execution_count": 18,
   "id": "f8ab5790-9e8f-4534-8b38-282ced519213",
   "metadata": {},
   "outputs": [],
   "source": [
    "dfsn38 = pd.DataFrame(sn38.items(), columns=['Symbol', 'Score']).sort_values(by='Score', ascending=False)\n",
    "dfsn38_cropped = dfsn38.nlargest(int(0.02*len(dfsn38)), 'Score')\n",
    "\n",
    "Refcellsn38 = Refcell.subgraph(list(dfsn38['Symbol']))\n",
    "Refcellsn38 = Refcellsn38.subgraph(max(nx.connected_components(Refcellsn38), key=len))\n",
    "\n",
    "Refcellsn38_cropped = Refcell.subgraph(list(dfsn38_cropped['Symbol']))\n",
    "Refcellsn38_cropped = Refcellsn38_cropped.subgraph(max(nx.connected_components(Refcellsn38_cropped), key=len))\n",
    "\n",
    "\n"
   ]
  },
  {
   "cell_type": "markdown",
   "id": "b454b5cd-0b9f-4799-bac4-e038d7b61973",
   "metadata": {},
   "source": [
    "## Flux calcualtion"
   ]
  },
  {
   "cell_type": "code",
   "execution_count": 7,
   "id": "9b0eebcb-44eb-4a08-8c71-5bf1e67dbedd",
   "metadata": {},
   "outputs": [],
   "source": [
    "sn38degree = pd.DataFrame(Refcellsn38.degree(), columns=[\"node\", \"degree\"])\n",
    "sn38flux = nx.to_pandas_edgelist(Refcellsn38)\n",
    "sn38flux = sn38flux.merge(dfsn38, how= 'left', left_on = 'source',right_on = 'Symbol')\n",
    "sn38flux = sn38flux.merge(dfsn38, how= 'left', left_on = 'target',right_on = 'Symbol', suffixes=(\"_source\", \"_target\"))\n",
    "sn38flux = sn38flux.merge(sn38degree, how= 'left', left_on = 'source',right_on = 'node')\n",
    "sn38flux = sn38flux.merge(sn38degree, how= 'left', left_on = 'target',right_on = 'node', suffixes=(\"_source\", \"_target\"))\n",
    "sn38flux['flux1'] = sn38flux['Score_source'] * sn38flux['Confidence Value'] / sn38flux['degree_source']\n",
    "sn38flux['flux2'] = sn38flux['Score_target'] * sn38flux['Confidence Value'] / sn38flux['degree_target']\n",
    "sn38flux['flux'] = sn38flux[['flux1','flux2']].min(axis=1)\n",
    "sn38flux = sn38flux.sort_values(by='flux',ascending=False).reset_index()"
   ]
  },
  {
   "cell_type": "markdown",
   "id": "67090827-765c-4167-a0cb-41d73e7f5006",
   "metadata": {},
   "source": [
    "### Cutting top n percent of flux valued edges"
   ]
  },
  {
   "cell_type": "code",
   "execution_count": 8,
   "id": "39a5f064-06a0-45d8-b636-f55a249afe1c",
   "metadata": {},
   "outputs": [],
   "source": [
    "subsn38 = nx.from_pandas_edgelist(sn38flux.head(int(0.001*len(sn38flux))), 'source', 'target',edge_attr=('Confidence Value','flux'))\n",
    "subsn38 = subsn38.subgraph(max(nx.connected_components(subsn38), key=len))"
   ]
  },
  {
   "cell_type": "code",
   "execution_count": 9,
   "id": "9b697ecc-6a0e-47fc-8d7f-dbcd346b8046",
   "metadata": {},
   "outputs": [
    {
     "data": {
      "text/plain": [
       "(138, 106)"
      ]
     },
     "execution_count": 9,
     "metadata": {},
     "output_type": "execute_result"
    }
   ],
   "source": [
    "len(subsn38),len(Refcellsn38_cropped)"
   ]
  },
  {
   "cell_type": "code",
   "execution_count": 10,
   "id": "1ceed200-169a-4c92-921a-c6cbf768c45e",
   "metadata": {},
   "outputs": [],
   "source": [
    "def output_networkx_graph_as_interactive_html(nxgraph, attribute_metadata=dict(), output_dir=\".\", filename=\"graph.html\"):\n",
    "\n",
    "    return axial.graph(nxgraph,\n",
    "        title='Cell line drug network',\n",
    "        scripts_mode=\"inline\",\n",
    "        data_mode=\"inline\",\n",
    "        output_dir=output_dir,\n",
    "        filename=filename)"
   ]
  },
  {
   "cell_type": "code",
   "execution_count": 11,
   "id": "c8a7e33e-e5f0-4b31-b81b-7447a238c478",
   "metadata": {},
   "outputs": [
    {
     "data": {
      "text/plain": [
       "PosixPath('/Users/sina/Library/CloudStorage/OneDrive-KocUniversitesi/NetLab/DRP/Cell Model Pasport/Edge flux SYK.html')"
      ]
     },
     "execution_count": 11,
     "metadata": {},
     "output_type": "execute_result"
    }
   ],
   "source": [
    "output_networkx_graph_as_interactive_html(Refcellsn38_cropped, filename=\"Node score SYK.html\")\n",
    "output_networkx_graph_as_interactive_html(subsn38, filename=\"Edge flux SYK.html\")"
   ]
  },
  {
   "cell_type": "code",
   "execution_count": 12,
   "id": "aab16988-e3df-41d6-996c-80aafa1308ad",
   "metadata": {},
   "outputs": [
    {
     "data": {
      "text/html": [
       "<div>\n",
       "<style scoped>\n",
       "    .dataframe tbody tr th:only-of-type {\n",
       "        vertical-align: middle;\n",
       "    }\n",
       "\n",
       "    .dataframe tbody tr th {\n",
       "        vertical-align: top;\n",
       "    }\n",
       "\n",
       "    .dataframe thead th {\n",
       "        text-align: right;\n",
       "    }\n",
       "</style>\n",
       "<table border=\"1\" class=\"dataframe\">\n",
       "  <thead>\n",
       "    <tr style=\"text-align: right;\">\n",
       "      <th></th>\n",
       "    </tr>\n",
       "  </thead>\n",
       "  <tbody>\n",
       "  </tbody>\n",
       "</table>\n",
       "</div>"
      ],
      "text/plain": [
       "Empty DataFrame\n",
       "Columns: []\n",
       "Index: []"
      ]
     },
     "execution_count": 12,
     "metadata": {},
     "output_type": "execute_result"
    }
   ],
   "source": [
    "pd.DataFrame.from_dict(dict(Refcellsn38_cropped.nodes(data=True)), orient='index')\n",
    "pd.DataFrame.from_dict(dict(subsn38.nodes(data=True)), orient='index')"
   ]
  },
  {
   "cell_type": "code",
   "execution_count": 16,
   "id": "4364e5a6-f510-4310-b874-277b78fdeab6",
   "metadata": {},
   "outputs": [
    {
     "data": {
      "text/plain": [
       "<AxesSubplot:ylabel='Density'>"
      ]
     },
     "execution_count": 16,
     "metadata": {},
     "output_type": "execute_result"
    },
    {
     "data": {
      "image/png": "[encoded data removed]",
      "text/plain": [
       "<Figure size 432x288 with 1 Axes>"
      ]
     },
     "metadata": {
      "needs_background": "light"
     },
     "output_type": "display_data"
    }
   ],
   "source": [
    "np.log10(sn38flux.head(int(1*len(sn38flux)))['flux']).plot(kind='kde')"
   ]
  },
  {
   "cell_type": "code",
   "execution_count": 19,
   "id": "e276a8a6-4967-43ce-a7ee-a57397dd4053",
   "metadata": {},
   "outputs": [
    {
     "data": {
      "text/plain": [
       "<AxesSubplot:ylabel='Density'>"
      ]
     },
     "execution_count": 19,
     "metadata": {},
     "output_type": "execute_result"
    },
    {
     "data": {
      "image/png": "[encoded data removed]",
      "text/plain": [
       "<Figure size 432x288 with 1 Axes>"
      ]
     },
     "metadata": {
      "needs_background": "light"
     },
     "output_type": "display_data"
    }
   ],
   "source": [
    "np.log10(dfsn38.head(int(1*len(dfsn38)))['Score']).plot(kind='kde')"
   ]
  },
  {
   "cell_type": "code",
   "execution_count": 15,
   "id": "e7a2f5eb-97ed-4f71-a90d-b1b71daf12b0",
   "metadata": {},
   "outputs": [
    {
     "data": {
      "text/plain": [
       "0       0.000136\n",
       "1       0.000155\n",
       "2       0.000083\n",
       "3       0.000247\n",
       "4       0.000293\n",
       "          ...   \n",
       "5319    0.000106\n",
       "5320    0.000043\n",
       "5321    0.000091\n",
       "5322    0.000093\n",
       "5323    0.000289\n",
       "Name: Score, Length: 5324, dtype: float64"
      ]
     },
     "execution_count": 15,
     "metadata": {},
     "output_type": "execute_result"
    }
   ],
   "source": [
    "dfsn38['Score']"
   ]
  },
  {
   "cell_type": "code",
   "execution_count": null,
   "id": "76619826-ede9-4eb3-af5f-dddadf92cacf",
   "metadata": {},
   "outputs": [],
   "source": []
  }
 ],
 "metadata": {
  "kernelspec": {
   "display_name": "Python 3 (ipykernel)",
   "language": "python",
   "name": "python3"
  },
  "language_info": {
   "codemirror_mode": {
    "name": "ipython",
    "version": 3
   },
   "file_extension": ".py",
   "mimetype": "text/x-python",
   "name": "python",
   "nbconvert_exporter": "python",
   "pygments_lexer": "ipython3",
   "version": "3.9.12"
  }
 },
 "nbformat": 4,
 "nbformat_minor": 5
}
